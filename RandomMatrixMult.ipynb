{
  "nbformat": 4,
  "nbformat_minor": 0,
  "metadata": {
    "colab": {
      "name": "RandomMatrixMult.ipynb",
      "provenance": [],
      "authorship_tag": "ABX9TyOqBbwnb4hWD0ofJ0n4jpfu",
      "include_colab_link": true
    },
    "kernelspec": {
      "name": "python3",
      "display_name": "Python 3"
    },
    "language_info": {
      "name": "python"
    }
  },
  "cells": [
    {
      "cell_type": "markdown",
      "metadata": {
        "id": "view-in-github",
        "colab_type": "text"
      },
      "source": [
        "<a href=\"https://colab.research.google.com/github/shelfertmurphy/FromScratchML/blob/main/RandomMatrixMult.ipynb\" target=\"_parent\"><img src=\"https://colab.research.google.com/assets/colab-badge.svg\" alt=\"Open In Colab\"/></a>"
      ]
    },
    {
      "cell_type": "markdown",
      "source": [
        "# Random Matrix Multiplication\n",
        "\n",
        "Multiplying two nxn matrices requires the multiplication of $n^2$ matrix entries. This process uses a great amount of computing power and time ($O(n^3)$ time efficiency when using a brute-force algorithm). When working with big data, we typically encounter very large matrices, and so randomized matrix multiplication introduces a way to increase efficiency with an approximation of the product. To approximate the product $AB,$ the idea is to randomly sample columns of $A$ and corresponding rows of $B$\n",
        "to compute an approximation of the product. \n",
        "\n",
        "Given distribution {pⱼ} with *n* probabilities, the estimated mean is calculated by taking the sum of all *n* possible outputs weighted by their probabilities. The variance is calculated by taking the weighted average of the squared distances from outputs to mean, meaning we add all (outputs - mean)^2 weighted by their probabilities.\n",
        "\n",
        "The optimal probability distribution is \"norm-squared\" sampling to minimize the variance. This is calculated by $p_j = \\frac{1}{C} ||$column$ j $of $A|| ||$row$ j $of $B|| = \\frac{||a_j|| ||b_j^T||}{C}$ where $C=\\sum_{j=1}^n||a_j|| ||b_j^T||.$\n"
      ],
      "metadata": {
        "id": "ZZbSyh01ZecA"
      }
    },
    {
      "cell_type": "code",
      "execution_count": null,
      "metadata": {
        "colab": {
          "base_uri": "https://localhost:8080/"
        },
        "id": "Q9qJetO99PSR",
        "outputId": "ee925a68-b676-49da-b04e-cddd45bd666d"
      },
      "outputs": [
        {
          "output_type": "stream",
          "name": "stdout",
          "text": [
            "[[1.18262244 2.13518558 0.80846443 1.39123924 1.50195457]\n",
            " [1.28890871 1.92286879 0.6274426  0.96188372 1.30609405]\n",
            " [1.59275701 2.58298804 0.92305589 1.60865964 2.05903462]\n",
            " [1.34170857 2.12317206 0.79040027 1.26456759 1.7345237 ]\n",
            " [1.56443224 2.70971415 1.25220595 2.01448486 2.23450688]]\n",
            "[[0.24122104 0.92337423 0.72385209 1.8144171  1.26534357]\n",
            " [0.24828295 0.95040664 0.74504336 1.86753541 1.30238737]\n",
            " [0.30215223 1.1566138  0.9066934  2.27272952 1.58496284]\n",
            " [0.10341755 0.39587386 0.31033368 0.77788646 0.54248476]\n",
            " [0.56407216 2.15922167 1.69265838 4.24283959 2.95888403]]\n",
            "[[1.64684411 2.90585717 0.96090888 1.69080253 1.41797904]\n",
            " [1.79875046 3.05283948 1.02201702 1.76504676 1.62812311]\n",
            " [1.80816514 3.07726157 1.10331601 1.97387501 1.84912404]\n",
            " [1.30182416 2.01280539 0.62079606 0.95045402 1.08883442]\n",
            " [1.85340934 3.50287357 1.51289363 3.05138593 2.55832372]]\n"
          ]
        }
      ],
      "source": [
        "#input a A mxn matrix, B a nxp matrix, a number c, and a list of probabilities indexed from 1 to n\n",
        "#outputs C and R\n",
        "#for t from 1 to c:\n",
        "#pick a number i from 1 to n with weight p_i\n",
        "#then set the t-th column from C to be the ith column from A divided by the square root of c*p_i\n",
        "#and set the t-th row from R to be the ith row from B divided by the square root of c*p_i\n",
        "\n",
        "import numpy as np\n",
        "import random as rd\n",
        "from timeit import default_timer as timer\n",
        "import matplotlib.pyplot as plt\n",
        "\n",
        "def rand_mat_mul(A, B, c, prob):\n",
        "  m,n = np.shape(A)\n",
        "  p = B.shape[1]\n",
        "  C = np.zeros([m, n])\n",
        "  R = np.zeros([n, p])\n",
        "  for t in range(c):\n",
        "    idx = rd.choices(list(range(0,n)), prob)\n",
        "    C[:,[t]] = np.divide(A[:,idx], (c*prob[idx]))\n",
        "    R[t,:] = np.divide(B[[idx],:], (c*prob[idx]))\n",
        "  return np.matmul(C,R)\n",
        "\n",
        "\n",
        "\n",
        "#norm-squared function for optimal prob\n",
        "def optimal_prob(A, B):\n",
        "  n = A.shape[1]\n",
        "  product = np.zeros(n)\n",
        "  for j in range(n):\n",
        "    product[j] = np.linalg.norm(A[:,j])*np.linalg.norm(B[j,:])\n",
        "  summation = sum(product)\n",
        "  return np.divide(product, summation)\n",
        "\n",
        "#trials\n",
        "mat1 = np.random.rand(5,5)\n",
        "mat2 = np.random.rand(5,5)\n",
        "uniform_probs = np.array([0.2, 0.2, 0.2, 0.2, 0.2])\n",
        "optimal_probs = optimal_prob(mat1, mat2)\n",
        "\n",
        "#print actual product\n",
        "print(np.matmul(mat1,mat2))\n",
        "#print uniform\n",
        "print(rand_mat_mul(mat1, mat2, 4, uniform_probs))\n",
        "#print optimal\n",
        "print(rand_mat_mul(mat1, mat2, 4, optimal_probs))"
      ]
    },
    {
      "cell_type": "markdown",
      "source": [
        "We can see from above that the product with the optimal probability distribution is closer to the true product.\n"
      ],
      "metadata": {
        "id": "eBceyedK23ny"
      }
    },
    {
      "cell_type": "code",
      "source": [
        "#regular matrix multiplication function\n",
        "def mat_mul(A, B):\n",
        "  for i in range(len(A)):\n",
        "    # iterating by column by B\n",
        "    for j in range(len(B[0])):\n",
        "      # iterating by rows of B\n",
        "      for k in range(len(B)):\n",
        "        result[i][j] += A[i][k] * B[k][j]\n",
        "  return result\n",
        "\n",
        "#runtime trials for uniform rand\n",
        "time_rand = []\n",
        "for k in range(7):\n",
        "  pwr = k+4\n",
        "  start = timer()\n",
        "  mat1 = np.random.rand(5,2**pwr)\n",
        "  mat2 = np.random.rand(2**pwr,5)\n",
        "  optimal_probs = optimal_prob(mat1, mat2)\n",
        "  result = rand_mat_mul(mat1, mat2, 10, optimal_probs)\n",
        "  end = timer()\n",
        "  time = end-start\n",
        "  time_rand.append(time)\n",
        "\n",
        "#runtime trials for regular matrix multiplication\n",
        "\n",
        "time_reg = []\n",
        "for k2 in range(7):\n",
        "  pwr2 = k2+4\n",
        "  start2 = timer()\n",
        "  mat1 = np.random.rand(5,2**pwr2)\n",
        "  mat2 = np.random.rand(2**pwr2,5)\n",
        "  result1 = mat_mul(mat1, mat2)\n",
        "  end2 = timer()\n",
        "  time2 = end2-start2\n",
        "  time_reg.append(time2)\n",
        "\n",
        "#plot results\n",
        "k_values = [4,5,6,7,8,9,10]\n",
        "plt.plot(k_values, time_rand, label = \"Random Algorithm Runtime\")\n",
        "plt.plot(k_values, time_reg, label = \"Regular Multiplication Runtime\")\n",
        "plt.xlabel(\"Value of k\")\n",
        "plt.ylabel(\"Runtime\")\n",
        "plt.legend()\n",
        "plt.show()\n",
        "\n"
      ],
      "metadata": {
        "colab": {
          "base_uri": "https://localhost:8080/",
          "height": 279
        },
        "id": "I5isEdme8cgx",
        "outputId": "0293e195-7713-4028-fcdf-5f591d9cc94b"
      },
      "execution_count": null,
      "outputs": [
        {
          "output_type": "display_data",
          "data": {
            "image/png": "[encoded data removed]",
            "text/plain": [
              "<Figure size 432x288 with 1 Axes>"
            ]
          },
          "metadata": {
            "needs_background": "light"
          }
        }
      ]
    },
    {
      "cell_type": "markdown",
      "source": [
        "Clearly, the runtime for regular matrix multiplication is at first faster, but then around a power of 7 the runtime for regular matrix multiplication increases rapidly in comparison to the random algorithm. Of course, this is just tested when random sampling is constantly sampling 10 rows and columns of the matrices. This will likely change as the sample size changes.\n",
        "\n"
      ],
      "metadata": {
        "id": "g9oM2TtpY1mD"
      }
    }
  ]
}