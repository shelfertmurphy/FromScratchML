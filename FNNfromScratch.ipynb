{
  "nbformat": 4,
  "nbformat_minor": 0,
  "metadata": {
    "colab": {
      "name": "FNNfromScratch.ipynb",
      "provenance": [],
      "authorship_tag": "ABX9TyNsqhKKtBYiQgpxW/jGqYs7",
      "include_colab_link": true
    },
    "kernelspec": {
      "name": "python3",
      "display_name": "Python 3"
    },
    "language_info": {
      "name": "python"
    }
  },
  "cells": [
    {
      "cell_type": "markdown",
      "metadata": {
        "id": "view-in-github",
        "colab_type": "text"
      },
      "source": [
        "<a href=\"https://colab.research.google.com/github/shelfertmurphy/FromScratchML/blob/main/FNNfromScratch.ipynb\" target=\"_parent\"><img src=\"https://colab.research.google.com/assets/colab-badge.svg\" alt=\"Open In Colab\"/></a>"
      ]
    },
    {
      "cell_type": "markdown",
      "source": [
        "# Simple Feedforward Neural Network\n",
        "\n",
        "He we implement a simple two-layer feed forward neural network from scratch. This is the most simple type of neural network, as infromation flows in only one direction, from input nodes, through a hidden layer, to output notes. We utilize the sigmoid activation function. An activation function is what takes us from one node to the next in a neural network, i.e., is the function that defines the output given a defined input. The sigmoid activation function is useful for predicting the probability of a given output because its codomain remains between 0 and 1."
      ],
      "metadata": {
        "id": "Q_FD4FVeuggn"
      }
    },
    {
      "cell_type": "code",
      "execution_count": null,
      "metadata": {
        "colab": {
          "base_uri": "https://localhost:8080/",
          "height": 282
        },
        "id": "yuggReaZprt4",
        "outputId": "b66f6773-59c8-4418-a265-4ea11ce88041"
      },
      "outputs": [
        {
          "output_type": "stream",
          "name": "stdout",
          "text": [
            "[11.89607499 11.92561626]\n"
          ]
        },
        {
          "output_type": "display_data",
          "data": {
            "image/png": "[encoded data removed]",
            "text/plain": [
              "<Figure size 432x288 with 1 Axes>"
            ]
          },
          "metadata": {
            "needs_background": "light"
          }
        }
      ],
      "source": [
        "\n",
        "import numpy as np\n",
        "import matplotlib.pyplot as plt\n",
        "\n",
        "#function for the sigmoid activation function\n",
        "def sigmoid(x):\n",
        "  y = np.zeros((x.size))\n",
        "  for i in range(len(x)):\n",
        "    y[i] = 1 / (1 + np.exp(-x[i]))\n",
        "  return y\n",
        "\n",
        "x = np.linspace(-10,10,1000)\n",
        "y = sigmoid(x)\n",
        "plt.plot(x,y)\n",
        "\n",
        "#function for the derivative of sigmoid\n",
        "def sigmoid_der(x):\n",
        "  y = np.zeros((x.size))\n",
        "  for i in range(len(x)):\n",
        "    y[i] = np.exp(-x[i])/((1+np.exp(-x[i]))**2)\n",
        "  return y\n",
        "\n",
        "x2 = np.linspace(-10,10,1000)\n",
        "y2 = sigmoid_der(x)\n",
        "plt.plot(x2,y2)\n",
        "\n",
        "#one input node\n",
        "#two nodes in the hidden layer\n",
        "#one output node\n",
        "#activation function is sigmoid sigma(x)=1/(1+exp(-x))\n",
        "#derivative of sigmoid is sigma'(x)=exp(-x)/(1+exp(-x)^2)\n",
        "def two_layer_FNN(inputX, ObsY, stepsize):\n",
        "  max_ite = 10\n",
        "  tol = 1e-5\n",
        "  #initialize\n",
        "  w0 = np.ones(7)/2\n",
        "  w = w0\n",
        "  grad_w = np.zeros(7)\n",
        "  b1 = np.ones(inputX.shape)\n",
        "  h1 = np.ones(inputX.shape)\n",
        "  h1_tilde = h1\n",
        "  h2 = np.zeros(inputX.shape)\n",
        "  h2_tilde = h2\n",
        "  \n",
        "  ite = 0\n",
        "  RSS = 1\n",
        "  \n",
        "  h1, h1_tilde, h2, h2_tilde, OutY, R = forward_comp(inputX, ObsY, w, b1, b2)\n",
        "\n",
        "  while ite <= max_ite and RSS > tol:\n",
        "\n",
        "    #stage 1 is backward computation to update weights usign grad des\n",
        "\n",
        "    #stage 1 subtask 1 is to compute the gradient for each weights\n",
        "    grad_w[0] = np.dot(R,h1_tilde)\n",
        "    grad_w[1] = np.dot(R,h2_tilde)\n",
        "    grad_w[2] = np.dot(R, b2)\n",
        "    grad_w[3] = np.dot((R*w[0]), np.multiply(sigmoid_der(h1),inputX))\n",
        "    grad_w[4] = np.dot((R*w[0]), np.multiply(sigmoid_der(h1),b1))\n",
        "    grad_w[5] = np.dot((R*w[1]), np.multiply(sigmoid_der(h2),inputX))\n",
        "    grad_w[6] = np.dot((R*w[1]), np.multiply(sigmoid_der(h2),b1))\n",
        "\n",
        "    #stage 1 subtask 2 is to update each weight by grad des\n",
        "    w = w-grad_w*stepsize\n",
        "\n",
        "    #stage 2 is forward computation to update the RSS\n",
        "    h1, h1_tilde, h2, h2_tilde, OutY, R = forward_comp(inputX, ObsY, w, b1, b2)\n",
        "    RSS = 1/2 * np.dot(R,R)\n",
        "\n",
        "    ite += 1\n",
        "\n",
        "  return OutY, ite, RSS\n",
        "\n",
        "def forward_comp(inputX, ObsY, w, b1, b2):\n",
        "  #compute the output Y under current settings\n",
        "\n",
        "  OutY = np.zeros(inputX.shape)\n",
        "\n",
        "  h1 = (inputX * w[3]) + (b1 * w[4])\n",
        "  h1_tilde = sigmoid(h1)\n",
        "  \n",
        "  h2 = (inputX * w[5]) + (b1 * w[6])\n",
        "  h2_tilde = sigmoid(h2)\n",
        "\n",
        "  OutY = (h1_tilde * w[0]) + (h2_tilde * w[1]) + (b2 * w[2])\n",
        "\n",
        "  #compute the initial residual vector R\n",
        "  R = OutY-ObsY\n",
        "  return h1, h1_tilde, h2, h2_tilde, OutY, R\n",
        "\n",
        "input = np.array([1,2])\n",
        "Obs = input**2\n",
        "\n",
        "\n",
        "test = two_layer_FNN(input, Obs, 1)\n",
        "print(test)"
      ]
    }
  ]
}